{
 "cells": [
  {
   "cell_type": "code",
   "execution_count": 2,
   "metadata": {},
   "outputs": [],
   "source": [
    "import subprocess"
   ]
  },
  {
   "cell_type": "code",
   "execution_count": 43,
   "metadata": {},
   "outputs": [
    {
     "name": "stdout",
     "output_type": "stream",
     "text": [
      "b'The final CLIP R-Precision is: 0.21134207\\n'\n"
     ]
    }
   ],
   "source": [
    "# python r_precision.py --text \"a full body astronaut.\" --workspace trial_astronaut --latest ep0050 --mode depth --clip clip-ViT-B-16\n",
    "\n",
    "prompt = \"A DSLR 3D photo of a crazily futuristic electric car\"\n",
    "workspace = \"trial_futuristic_car-ph3\"\n",
    "ep = \"ep0400\"\n",
    "\n",
    "\n",
    "result = subprocess.run([\"python\", \"r_precision.py\", \"--text\", prompt, \"--workspace\", workspace, \n",
    "                    \"--latest\", str(ep), \"--mode\", \"depth\", \"--clip\", \"clip-ViT-B-16\"  ], capture_output = True)\n",
    "\n",
    "print(result.stdout)"
   ]
  }
 ],
 "metadata": {
  "kernelspec": {
   "display_name": "diff",
   "language": "python",
   "name": "python3"
  },
  "language_info": {
   "codemirror_mode": {
    "name": "ipython",
    "version": 3
   },
   "file_extension": ".py",
   "mimetype": "text/x-python",
   "name": "python",
   "nbconvert_exporter": "python",
   "pygments_lexer": "ipython3",
   "version": "3.10.13"
  }
 },
 "nbformat": 4,
 "nbformat_minor": 2
}
